{
 "cells": [
  {
   "cell_type": "code",
   "execution_count": 41,
   "id": "a79c1d28",
   "metadata": {},
   "outputs": [],
   "source": [
    "import pandas as pd\n",
    "import numpy as np\n",
    "import seaborn as sns\n",
    "from sklearn.model_selection import train_test_split\n",
    "from sklearn.linear_model import LinearRegression\n",
    "from sklearn.metrics import r2_score\n",
    "import matplotlib.pyplot as plt\n",
    "%matplotlib inline\n",
    "\n",
    "import seaborn as sns\n",
    "\n",
    "import warnings\n",
    "warnings.filterwarnings('ignore')"
   ]
  },
  {
   "cell_type": "code",
   "execution_count": 42,
   "id": "02a2c4f7",
   "metadata": {},
   "outputs": [],
   "source": [
    "HouseDF = pd.read_csv('minihomeprices.csv')\n"
   ]
  },
  {
   "cell_type": "code",
   "execution_count": 43,
   "id": "8a2c0b61",
   "metadata": {},
   "outputs": [
    {
     "data": {
      "text/html": [
       "<div>\n",
       "<style scoped>\n",
       "    .dataframe tbody tr th:only-of-type {\n",
       "        vertical-align: middle;\n",
       "    }\n",
       "\n",
       "    .dataframe tbody tr th {\n",
       "        vertical-align: top;\n",
       "    }\n",
       "\n",
       "    .dataframe thead th {\n",
       "        text-align: right;\n",
       "    }\n",
       "</style>\n",
       "<table border=\"1\" class=\"dataframe\">\n",
       "  <thead>\n",
       "    <tr style=\"text-align: right;\">\n",
       "      <th></th>\n",
       "      <th>area</th>\n",
       "      <th>bedrooms</th>\n",
       "      <th>age</th>\n",
       "      <th>price</th>\n",
       "    </tr>\n",
       "  </thead>\n",
       "  <tbody>\n",
       "    <tr>\n",
       "      <th>0</th>\n",
       "      <td>2600</td>\n",
       "      <td>3.0</td>\n",
       "      <td>20</td>\n",
       "      <td>550000</td>\n",
       "    </tr>\n",
       "    <tr>\n",
       "      <th>1</th>\n",
       "      <td>3000</td>\n",
       "      <td>4.0</td>\n",
       "      <td>15</td>\n",
       "      <td>565000</td>\n",
       "    </tr>\n",
       "    <tr>\n",
       "      <th>2</th>\n",
       "      <td>3200</td>\n",
       "      <td>NaN</td>\n",
       "      <td>18</td>\n",
       "      <td>610000</td>\n",
       "    </tr>\n",
       "    <tr>\n",
       "      <th>3</th>\n",
       "      <td>3600</td>\n",
       "      <td>3.0</td>\n",
       "      <td>30</td>\n",
       "      <td>595000</td>\n",
       "    </tr>\n",
       "    <tr>\n",
       "      <th>4</th>\n",
       "      <td>4000</td>\n",
       "      <td>5.0</td>\n",
       "      <td>8</td>\n",
       "      <td>760000</td>\n",
       "    </tr>\n",
       "  </tbody>\n",
       "</table>\n",
       "</div>"
      ],
      "text/plain": [
       "   area  bedrooms  age   price\n",
       "0  2600       3.0   20  550000\n",
       "1  3000       4.0   15  565000\n",
       "2  3200       NaN   18  610000\n",
       "3  3600       3.0   30  595000\n",
       "4  4000       5.0    8  760000"
      ]
     },
     "execution_count": 43,
     "metadata": {},
     "output_type": "execute_result"
    }
   ],
   "source": [
    "HouseDF.head()"
   ]
  },
  {
   "cell_type": "code",
   "execution_count": 44,
   "id": "f1bad38d",
   "metadata": {},
   "outputs": [
    {
     "name": "stdout",
     "output_type": "stream",
     "text": [
      "<class 'pandas.core.frame.DataFrame'>\n",
      "RangeIndex: 6 entries, 0 to 5\n",
      "Data columns (total 4 columns):\n",
      " #   Column    Non-Null Count  Dtype  \n",
      "---  ------    --------------  -----  \n",
      " 0   area      6 non-null      int64  \n",
      " 1   bedrooms  5 non-null      float64\n",
      " 2   age       6 non-null      int64  \n",
      " 3   price     6 non-null      int64  \n",
      "dtypes: float64(1), int64(3)\n",
      "memory usage: 320.0 bytes\n"
     ]
    }
   ],
   "source": [
    "HouseDF.info()"
   ]
  },
  {
   "cell_type": "code",
   "execution_count": 45,
   "id": "df7a2899",
   "metadata": {},
   "outputs": [
    {
     "data": {
      "text/html": [
       "<style  type=\"text/css\" >\n",
       "#T_10019_row0_col0,#T_10019_row0_col2,#T_10019_row0_col3,#T_10019_row2_col1{\n",
       "            background-color:  #000000;\n",
       "            color:  #f1f1f1;\n",
       "        }#T_10019_row0_col1,#T_10019_row6_col1{\n",
       "            background-color:  #e6cb39;\n",
       "            color:  #000000;\n",
       "        }#T_10019_row1_col0{\n",
       "            background-color:  #e6d95f;\n",
       "            color:  #000000;\n",
       "        }#T_10019_row1_col1{\n",
       "            background-color:  #e77b03;\n",
       "            color:  #000000;\n",
       "        }#T_10019_row1_col2,#T_10019_row5_col2{\n",
       "            background-color:  #cd3a52;\n",
       "            color:  #f1f1f1;\n",
       "        }#T_10019_row1_col3{\n",
       "            background-color:  #e6cf42;\n",
       "            color:  #000000;\n",
       "        }#T_10019_row2_col0{\n",
       "            background-color:  #2b2688;\n",
       "            color:  #f1f1f1;\n",
       "        }#T_10019_row2_col2{\n",
       "            background-color:  #1d1d60;\n",
       "            color:  #f1f1f1;\n",
       "        }#T_10019_row2_col3{\n",
       "            background-color:  #292684;\n",
       "            color:  #f1f1f1;\n",
       "        }#T_10019_row3_col0{\n",
       "            background-color:  #e68502;\n",
       "            color:  #000000;\n",
       "        }#T_10019_row3_col1,#T_10019_row4_col1{\n",
       "            background-color:  #903287;\n",
       "            color:  #f1f1f1;\n",
       "        }#T_10019_row3_col2{\n",
       "            background-color:  #191954;\n",
       "            color:  #f1f1f1;\n",
       "        }#T_10019_row3_col3{\n",
       "            background-color:  #e69b0b;\n",
       "            color:  #000000;\n",
       "        }#T_10019_row4_col0,#T_10019_row5_col3{\n",
       "            background-color:  #e6bd18;\n",
       "            color:  #000000;\n",
       "        }#T_10019_row4_col2{\n",
       "            background-color:  #302690;\n",
       "            color:  #f1f1f1;\n",
       "        }#T_10019_row4_col3{\n",
       "            background-color:  #e6a910;\n",
       "            color:  #000000;\n",
       "        }#T_10019_row5_col0{\n",
       "            background-color:  #e6d85c;\n",
       "            color:  #000000;\n",
       "        }#T_10019_row5_col1{\n",
       "            background-color:  #f06510;\n",
       "            color:  #000000;\n",
       "        }#T_10019_row6_col0{\n",
       "            background-color:  #f5f5cf;\n",
       "            color:  #000000;\n",
       "        }#T_10019_row6_col2{\n",
       "            background-color:  #f26112;\n",
       "            color:  #000000;\n",
       "        }#T_10019_row6_col3{\n",
       "            background-color:  #e9e993;\n",
       "            color:  #000000;\n",
       "        }#T_10019_row7_col0,#T_10019_row7_col1,#T_10019_row7_col2,#T_10019_row7_col3{\n",
       "            background-color:  #ffffff;\n",
       "            color:  #000000;\n",
       "        }</style><table id=\"T_10019_\" ><thead>    <tr>        <th class=\"blank level0\" ></th>        <th class=\"col_heading level0 col0\" >area</th>        <th class=\"col_heading level0 col1\" >bedrooms</th>        <th class=\"col_heading level0 col2\" >age</th>        <th class=\"col_heading level0 col3\" >price</th>    </tr></thead><tbody>\n",
       "                <tr>\n",
       "                        <th id=\"T_10019_level0_row0\" class=\"row_heading level0 row0\" >count</th>\n",
       "                        <td id=\"T_10019_row0_col0\" class=\"data row0 col0\" >6.000000</td>\n",
       "                        <td id=\"T_10019_row0_col1\" class=\"data row0 col1\" >5.000000</td>\n",
       "                        <td id=\"T_10019_row0_col2\" class=\"data row0 col2\" >6.000000</td>\n",
       "                        <td id=\"T_10019_row0_col3\" class=\"data row0 col3\" >6.000000</td>\n",
       "            </tr>\n",
       "            <tr>\n",
       "                        <th id=\"T_10019_level0_row1\" class=\"row_heading level0 row1\" >mean</th>\n",
       "                        <td id=\"T_10019_row1_col0\" class=\"data row1 col0\" >3416.666667</td>\n",
       "                        <td id=\"T_10019_row1_col1\" class=\"data row1 col1\" >4.200000</td>\n",
       "                        <td id=\"T_10019_row1_col2\" class=\"data row1 col2\" >16.500000</td>\n",
       "                        <td id=\"T_10019_row1_col3\" class=\"data row1 col3\" >648333.333333</td>\n",
       "            </tr>\n",
       "            <tr>\n",
       "                        <th id=\"T_10019_level0_row2\" class=\"row_heading level0 row2\" >std</th>\n",
       "                        <td id=\"T_10019_row2_col0\" class=\"data row2 col0\" >587.934237</td>\n",
       "                        <td id=\"T_10019_row2_col1\" class=\"data row2 col1\" >1.303840</td>\n",
       "                        <td id=\"T_10019_row2_col2\" class=\"data row2 col2\" >8.288546</td>\n",
       "                        <td id=\"T_10019_row2_col3\" class=\"data row2 col3\" >109117.673484</td>\n",
       "            </tr>\n",
       "            <tr>\n",
       "                        <th id=\"T_10019_level0_row3\" class=\"row_heading level0 row3\" >min</th>\n",
       "                        <td id=\"T_10019_row3_col0\" class=\"data row3 col0\" >2600.000000</td>\n",
       "                        <td id=\"T_10019_row3_col1\" class=\"data row3 col1\" >3.000000</td>\n",
       "                        <td id=\"T_10019_row3_col2\" class=\"data row3 col2\" >8.000000</td>\n",
       "                        <td id=\"T_10019_row3_col3\" class=\"data row3 col3\" >550000.000000</td>\n",
       "            </tr>\n",
       "            <tr>\n",
       "                        <th id=\"T_10019_level0_row4\" class=\"row_heading level0 row4\" >25%</th>\n",
       "                        <td id=\"T_10019_row4_col0\" class=\"data row4 col0\" >3050.000000</td>\n",
       "                        <td id=\"T_10019_row4_col1\" class=\"data row4 col1\" >3.000000</td>\n",
       "                        <td id=\"T_10019_row4_col2\" class=\"data row4 col2\" >9.750000</td>\n",
       "                        <td id=\"T_10019_row4_col3\" class=\"data row4 col3\" >572500.000000</td>\n",
       "            </tr>\n",
       "            <tr>\n",
       "                        <th id=\"T_10019_level0_row5\" class=\"row_heading level0 row5\" >50%</th>\n",
       "                        <td id=\"T_10019_row5_col0\" class=\"data row5 col0\" >3400.000000</td>\n",
       "                        <td id=\"T_10019_row5_col1\" class=\"data row5 col1\" >4.000000</td>\n",
       "                        <td id=\"T_10019_row5_col2\" class=\"data row5 col2\" >16.500000</td>\n",
       "                        <td id=\"T_10019_row5_col3\" class=\"data row5 col3\" >602500.000000</td>\n",
       "            </tr>\n",
       "            <tr>\n",
       "                        <th id=\"T_10019_level0_row6\" class=\"row_heading level0 row6\" >75%</th>\n",
       "                        <td id=\"T_10019_row6_col0\" class=\"data row6 col0\" >3900.000000</td>\n",
       "                        <td id=\"T_10019_row6_col1\" class=\"data row6 col1\" >5.000000</td>\n",
       "                        <td id=\"T_10019_row6_col2\" class=\"data row6 col2\" >19.500000</td>\n",
       "                        <td id=\"T_10019_row6_col3\" class=\"data row6 col3\" >722500.000000</td>\n",
       "            </tr>\n",
       "            <tr>\n",
       "                        <th id=\"T_10019_level0_row7\" class=\"row_heading level0 row7\" >max</th>\n",
       "                        <td id=\"T_10019_row7_col0\" class=\"data row7 col0\" >4100.000000</td>\n",
       "                        <td id=\"T_10019_row7_col1\" class=\"data row7 col1\" >6.000000</td>\n",
       "                        <td id=\"T_10019_row7_col2\" class=\"data row7 col2\" >30.000000</td>\n",
       "                        <td id=\"T_10019_row7_col3\" class=\"data row7 col3\" >810000.000000</td>\n",
       "            </tr>\n",
       "    </tbody></table>"
      ],
      "text/plain": [
       "<pandas.io.formats.style.Styler at 0x2c0c1f44ee0>"
      ]
     },
     "execution_count": 45,
     "metadata": {},
     "output_type": "execute_result"
    }
   ],
   "source": [
    "HouseDF.describe().style.background_gradient(cmap='CMRmap')"
   ]
  },
  {
   "cell_type": "code",
   "execution_count": 46,
   "id": "6f3da161",
   "metadata": {},
   "outputs": [
    {
     "data": {
      "text/plain": [
       "area        0\n",
       "bedrooms    1\n",
       "age         0\n",
       "price       0\n",
       "dtype: int64"
      ]
     },
     "execution_count": 46,
     "metadata": {},
     "output_type": "execute_result"
    }
   ],
   "source": [
    "HouseDF.isna().sum()"
   ]
  },
  {
   "cell_type": "code",
   "execution_count": 47,
   "id": "23ed81b3",
   "metadata": {},
   "outputs": [
    {
     "data": {
      "text/html": [
       "<div>\n",
       "<style scoped>\n",
       "    .dataframe tbody tr th:only-of-type {\n",
       "        vertical-align: middle;\n",
       "    }\n",
       "\n",
       "    .dataframe tbody tr th {\n",
       "        vertical-align: top;\n",
       "    }\n",
       "\n",
       "    .dataframe thead th {\n",
       "        text-align: right;\n",
       "    }\n",
       "</style>\n",
       "<table border=\"1\" class=\"dataframe\">\n",
       "  <thead>\n",
       "    <tr style=\"text-align: right;\">\n",
       "      <th></th>\n",
       "      <th>area</th>\n",
       "      <th>bedrooms</th>\n",
       "      <th>age</th>\n",
       "      <th>price</th>\n",
       "    </tr>\n",
       "  </thead>\n",
       "  <tbody>\n",
       "    <tr>\n",
       "      <th>0</th>\n",
       "      <td>2600</td>\n",
       "      <td>3.0</td>\n",
       "      <td>20</td>\n",
       "      <td>550000</td>\n",
       "    </tr>\n",
       "    <tr>\n",
       "      <th>1</th>\n",
       "      <td>3000</td>\n",
       "      <td>4.0</td>\n",
       "      <td>15</td>\n",
       "      <td>565000</td>\n",
       "    </tr>\n",
       "    <tr>\n",
       "      <th>2</th>\n",
       "      <td>3200</td>\n",
       "      <td>4.2</td>\n",
       "      <td>18</td>\n",
       "      <td>610000</td>\n",
       "    </tr>\n",
       "    <tr>\n",
       "      <th>3</th>\n",
       "      <td>3600</td>\n",
       "      <td>3.0</td>\n",
       "      <td>30</td>\n",
       "      <td>595000</td>\n",
       "    </tr>\n",
       "    <tr>\n",
       "      <th>4</th>\n",
       "      <td>4000</td>\n",
       "      <td>5.0</td>\n",
       "      <td>8</td>\n",
       "      <td>760000</td>\n",
       "    </tr>\n",
       "  </tbody>\n",
       "</table>\n",
       "</div>"
      ],
      "text/plain": [
       "   area  bedrooms  age   price\n",
       "0  2600       3.0   20  550000\n",
       "1  3000       4.0   15  565000\n",
       "2  3200       4.2   18  610000\n",
       "3  3600       3.0   30  595000\n",
       "4  4000       5.0    8  760000"
      ]
     },
     "execution_count": 47,
     "metadata": {},
     "output_type": "execute_result"
    }
   ],
   "source": [
    "HouseDF['bedrooms'] = HouseDF['bedrooms'].fillna( HouseDF['bedrooms'].mean() )\n",
    "HouseDF.head()"
   ]
  },
  {
   "cell_type": "code",
   "execution_count": 48,
   "id": "e558bdf3",
   "metadata": {},
   "outputs": [
    {
     "data": {
      "image/png": "[encoded data removed]",
      "text/plain": [
       "<Figure size 720x504 with 1 Axes>"
      ]
     },
     "metadata": {
      "needs_background": "light"
     },
     "output_type": "display_data"
    }
   ],
   "source": [
    "plt.figure(figsize=(10, 7))\n",
    "plt.title(\"Bedroom wise price increase.\")\n",
    "\n",
    "sns.barplot('bedrooms', 'price', data=HouseDF)\n",
    "plt.xlabel('Bedrooms', )\n",
    "plt.ylabel('Price')\n",
    "plt.show()"
   ]
  },
  {
   "cell_type": "code",
   "execution_count": 49,
   "id": "6c8ea8b8",
   "metadata": {},
   "outputs": [
    {
     "data": {
      "image/png": "[encoded data removed]",
      "text/plain": [
       "<Figure size 720x360 with 1 Axes>"
      ]
     },
     "metadata": {
      "needs_background": "light"
     },
     "output_type": "display_data"
    }
   ],
   "source": [
    "plt.figure(figsize=(10, 5))\n",
    "\n",
    "sns.scatterplot('bedrooms', 'price',data=HouseDF)\n",
    "plt.title(\"Price vs Bedroom Scatter plot\")\n",
    "\n",
    "plt.xlabel(\"House Bedrooms\")\n",
    "plt.ylabel('House Price')\n",
    "plt.show()"
   ]
  },
  {
   "cell_type": "code",
   "execution_count": 50,
   "id": "a7a51995",
   "metadata": {},
   "outputs": [
    {
     "data": {
      "text/plain": [
       "<Figure size 720x504 with 0 Axes>"
      ]
     },
     "metadata": {},
     "output_type": "display_data"
    },
    {
     "data": {
      "image/png": "[encoded data removed]",
      "text/plain": [
       "<Figure size 360x360 with 1 Axes>"
      ]
     },
     "metadata": {
      "needs_background": "light"
     },
     "output_type": "display_data"
    }
   ],
   "source": [
    "plt.figure(figsize=(10, 7))\n",
    "\n",
    "sns.lmplot(x=\"bedrooms\", y=\"price\", data=HouseDF);\n",
    "plt.title(\"Price and bedroom wise line plot\")\n",
    "plt.show()"
   ]
  },
  {
   "cell_type": "code",
   "execution_count": 51,
   "id": "262d6115",
   "metadata": {},
   "outputs": [],
   "source": [
    "mdl = LinearRegression()"
   ]
  },
  {
   "cell_type": "code",
   "execution_count": 52,
   "id": "6745be7a",
   "metadata": {},
   "outputs": [],
   "source": [
    "X = HouseDF.drop(['price'], axis=1)\n",
    "y = HouseDF['price']"
   ]
  },
  {
   "cell_type": "code",
   "execution_count": 53,
   "id": "055d34f6",
   "metadata": {},
   "outputs": [
    {
     "name": "stdout",
     "output_type": "stream",
     "text": [
      "<class 'pandas.core.frame.DataFrame'>\n",
      "RangeIndex: 6 entries, 0 to 5\n",
      "Data columns (total 4 columns):\n",
      " #   Column    Non-Null Count  Dtype\n",
      "---  ------    --------------  -----\n",
      " 0   area      6 non-null      int64\n",
      " 1   bedrooms  6 non-null      int64\n",
      " 2   age       6 non-null      int64\n",
      " 3   price     6 non-null      int64\n",
      "dtypes: int64(4)\n",
      "memory usage: 320.0 bytes\n"
     ]
    }
   ],
   "source": [
    "HouseDF['bedrooms'] = HouseDF['bedrooms'].astype('int64')\n",
    "\n",
    "HouseDF.info()"
   ]
  },
  {
   "cell_type": "code",
   "execution_count": 54,
   "id": "ea501b73",
   "metadata": {},
   "outputs": [
    {
     "name": "stdout",
     "output_type": "stream",
     "text": [
      "   area  bedrooms  age\n",
      "0  2600       3.0   20\n",
      "1  3000       4.0   15\n",
      "2  3200       4.2   18\n",
      "3  3600       3.0   30\n",
      "4  4000       5.0    8\n",
      "5  4100       6.0    8\n",
      "-------------------------\n",
      "0    550000\n",
      "1    565000\n",
      "2    610000\n",
      "3    595000\n",
      "4    760000\n",
      "5    810000\n",
      "Name: price, dtype: int64\n"
     ]
    }
   ],
   "source": [
    "print(X)\n",
    "print(\"-\" * 25)\n",
    "print(y)"
   ]
  },
  {
   "cell_type": "code",
   "execution_count": 55,
   "id": "808640ad",
   "metadata": {},
   "outputs": [
    {
     "data": {
      "text/html": [
       "<div>\n",
       "<style scoped>\n",
       "    .dataframe tbody tr th:only-of-type {\n",
       "        vertical-align: middle;\n",
       "    }\n",
       "\n",
       "    .dataframe tbody tr th {\n",
       "        vertical-align: top;\n",
       "    }\n",
       "\n",
       "    .dataframe thead th {\n",
       "        text-align: right;\n",
       "    }\n",
       "</style>\n",
       "<table border=\"1\" class=\"dataframe\">\n",
       "  <thead>\n",
       "    <tr style=\"text-align: right;\">\n",
       "      <th></th>\n",
       "      <th>area</th>\n",
       "      <th>bedrooms</th>\n",
       "      <th>age</th>\n",
       "      <th>price</th>\n",
       "    </tr>\n",
       "  </thead>\n",
       "  <tbody>\n",
       "    <tr>\n",
       "      <th>0</th>\n",
       "      <td>2600</td>\n",
       "      <td>3</td>\n",
       "      <td>20</td>\n",
       "      <td>550000</td>\n",
       "    </tr>\n",
       "    <tr>\n",
       "      <th>1</th>\n",
       "      <td>3000</td>\n",
       "      <td>4</td>\n",
       "      <td>15</td>\n",
       "      <td>565000</td>\n",
       "    </tr>\n",
       "    <tr>\n",
       "      <th>2</th>\n",
       "      <td>3200</td>\n",
       "      <td>4</td>\n",
       "      <td>18</td>\n",
       "      <td>610000</td>\n",
       "    </tr>\n",
       "    <tr>\n",
       "      <th>3</th>\n",
       "      <td>3600</td>\n",
       "      <td>3</td>\n",
       "      <td>30</td>\n",
       "      <td>595000</td>\n",
       "    </tr>\n",
       "    <tr>\n",
       "      <th>4</th>\n",
       "      <td>4000</td>\n",
       "      <td>5</td>\n",
       "      <td>8</td>\n",
       "      <td>760000</td>\n",
       "    </tr>\n",
       "    <tr>\n",
       "      <th>5</th>\n",
       "      <td>4100</td>\n",
       "      <td>6</td>\n",
       "      <td>8</td>\n",
       "      <td>810000</td>\n",
       "    </tr>\n",
       "  </tbody>\n",
       "</table>\n",
       "</div>"
      ],
      "text/plain": [
       "   area  bedrooms  age   price\n",
       "0  2600         3   20  550000\n",
       "1  3000         4   15  565000\n",
       "2  3200         4   18  610000\n",
       "3  3600         3   30  595000\n",
       "4  4000         5    8  760000\n",
       "5  4100         6    8  810000"
      ]
     },
     "execution_count": 55,
     "metadata": {},
     "output_type": "execute_result"
    }
   ],
   "source": [
    "HouseDF.fillna(HouseDF.mean())"
   ]
  },
  {
   "cell_type": "code",
   "execution_count": 56,
   "id": "f3d3af9a",
   "metadata": {
    "scrolled": true
   },
   "outputs": [
    {
     "data": {
      "text/plain": [
       "LinearRegression()"
      ]
     },
     "execution_count": 56,
     "metadata": {},
     "output_type": "execute_result"
    }
   ],
   "source": [
    "mdl.fit( X, y  )"
   ]
  },
  {
   "cell_type": "code",
   "execution_count": 57,
   "id": "618d5852",
   "metadata": {},
   "outputs": [
    {
     "data": {
      "text/plain": [
       "array([551989.04870256])"
      ]
     },
     "execution_count": 57,
     "metadata": {},
     "output_type": "execute_result"
    }
   ],
   "source": [
    "mdl.predict([[ 4000, 2, 50 ]])"
   ]
  },
  {
   "cell_type": "code",
   "execution_count": 58,
   "id": "0f8af41d",
   "metadata": {},
   "outputs": [
    {
     "data": {
      "text/plain": [
       "array([  116.66950551, 18756.28806982, -3675.75111708])"
      ]
     },
     "execution_count": 58,
     "metadata": {},
     "output_type": "execute_result"
    }
   ],
   "source": [
    "mdl.coef_"
   ]
  },
  {
   "cell_type": "code",
   "execution_count": 59,
   "id": "c5e4dcef",
   "metadata": {},
   "outputs": [
    {
     "data": {
      "text/plain": [
       "231586.00639409182"
      ]
     },
     "execution_count": 59,
     "metadata": {},
     "output_type": "execute_result"
    }
   ],
   "source": [
    "mdl.intercept_"
   ]
  },
  {
   "cell_type": "code",
   "execution_count": 60,
   "id": "726bad96",
   "metadata": {},
   "outputs": [
    {
     "name": "stdout",
     "output_type": "stream",
     "text": [
      "95.40926625396438\n"
     ]
    }
   ],
   "source": [
    "score = mdl.score( X, y )\n",
    "\n",
    "print(score * 100)"
   ]
  },
  {
   "cell_type": "code",
   "execution_count": null,
   "id": "f3716346",
   "metadata": {},
   "outputs": [],
   "source": []
  }
 ],
 "metadata": {
  "kernelspec": {
   "display_name": "Python 3",
   "language": "python",
   "name": "python3"
  },
  "language_info": {
   "codemirror_mode": {
    "name": "ipython",
    "version": 3
   },
   "file_extension": ".py",
   "mimetype": "text/x-python",
   "name": "python",
   "nbconvert_exporter": "python",
   "pygments_lexer": "ipython3",
   "version": "3.8.8"
  }
 },
 "nbformat": 4,
 "nbformat_minor": 5
}
